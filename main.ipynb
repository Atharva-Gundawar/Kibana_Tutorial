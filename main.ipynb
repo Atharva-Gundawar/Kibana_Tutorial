{
 "metadata": {
  "language_info": {
   "codemirror_mode": {
    "name": "ipython",
    "version": 3
   },
   "file_extension": ".py",
   "mimetype": "text/x-python",
   "name": "python",
   "nbconvert_exporter": "python",
   "pygments_lexer": "ipython3",
   "version": "3.8.3"
  },
  "orig_nbformat": 4,
  "kernelspec": {
   "name": "python3",
   "display_name": "Python 3.8.3 32-bit"
  },
  "interpreter": {
   "hash": "9aae1080b6a5a2a70c8c50235ff50a169cd249c9c352e0970adc2c7426a60ca2"
  }
 },
 "nbformat": 4,
 "nbformat_minor": 2,
 "cells": [
  {
   "cell_type": "code",
   "execution_count": 12,
   "metadata": {},
   "outputs": [
    {
     "output_type": "stream",
     "name": "stdout",
     "text": [
      "All Modules Loaded ! \n"
     ]
    }
   ],
   "source": [
    "try:\n",
    "    import os\n",
    "    import sys\n",
    "    from datetime import datetime\n",
    "    import elasticsearch\n",
    "    from elasticsearch import Elasticsearch \n",
    "    import pandas as pd\n",
    "    \n",
    "    print(\"All Modules Loaded ! \")\n",
    "except Exception as e:\n",
    "    print(\"Some Modules are Missing {}\".format(e))"
   ]
  },
  {
   "cell_type": "code",
   "execution_count": 3,
   "metadata": {},
   "outputs": [],
   "source": [
    "def connect_elasticsearch():\n",
    "    es = None\n",
    "    es = Elasticsearch([{'host': 'localhost', 'port': 9200}])\n",
    "    if es.ping():\n",
    "        print('Server  Connected ')\n",
    "    else:\n",
    "        print('could not connect!')\n",
    "    return es"
   ]
  },
  {
   "cell_type": "code",
   "execution_count": 4,
   "metadata": {},
   "outputs": [
    {
     "output_type": "stream",
     "name": "stdout",
     "text": [
      "Server  Connected \n",
      "C:\\Users\\Atharva\\AppData\\Local\\Programs\\Python\\Python38-32\\lib\\site-packages\\elasticsearch\\connection\\base.py:208: ElasticsearchWarning: Elasticsearch built-in security features are not enabled. Without authentication, your cluster could be accessible to anyone. See https://www.elastic.co/guide/en/elasticsearch/reference/7.13/security-minimal-setup.html to enable security.\n",
      "  warnings.warn(message, category=ElasticsearchWarning)\n"
     ]
    }
   ],
   "source": [
    "es = connect_elasticsearch()"
   ]
  },
  {
   "source": [
    "### Creating an index"
   ],
   "cell_type": "markdown",
   "metadata": {}
  },
  {
   "cell_type": "code",
   "execution_count": 6,
   "metadata": {},
   "outputs": [
    {
     "output_type": "execute_result",
     "data": {
      "text/plain": [
       "{'error': {'root_cause': [{'type': 'resource_already_exists_exception',\n",
       "    'reason': 'index [test-index/uQs3YRrzSzqGYintIJu7wg] already exists',\n",
       "    'index_uuid': 'uQs3YRrzSzqGYintIJu7wg',\n",
       "    'index': 'test-index'}],\n",
       "  'type': 'resource_already_exists_exception',\n",
       "  'reason': 'index [test-index/uQs3YRrzSzqGYintIJu7wg] already exists',\n",
       "  'index_uuid': 'uQs3YRrzSzqGYintIJu7wg',\n",
       "  'index': 'test-index'},\n",
       " 'status': 400}"
      ]
     },
     "metadata": {},
     "execution_count": 6
    }
   ],
   "source": [
    "es.indices.create(index='test-index', ignore=400)"
   ]
  },
  {
   "cell_type": "code",
   "execution_count": 8,
   "metadata": {},
   "outputs": [
    {
     "output_type": "stream",
     "name": "stdout",
     "text": [
      ".apm-custom-link\n",
      ".kibana_task_manager_7.13.4_001\n",
      "test-index\n",
      ".ds-ilm-history-5-2021.07.23-000001\n",
      "test-index1\n",
      ".kibana_7.13.4_001\n",
      ".apm-agent-configuration\n",
      ".kibana-event-log-7.13.4-000001\n",
      "C:\\Users\\Atharva\\AppData\\Local\\Programs\\Python\\Python38-32\\lib\\site-packages\\elasticsearch\\connection\\base.py:208: ElasticsearchWarning: this request accesses system indices: [.apm-custom-link, .kibana_task_manager_7.13.4_001, .kibana_7.13.4_001, .apm-agent-configuration], but in a future major version, direct access to system indices will be prevented by default\n",
      "  warnings.warn(message, category=ElasticsearchWarning)\n"
     ]
    }
   ],
   "source": [
    "res =  es.indices.get_alias(\"*\")\n",
    "for Name in res:\n",
    "    print(Name)"
   ]
  },
  {
   "cell_type": "code",
   "execution_count": 13,
   "metadata": {},
   "outputs": [],
   "source": [
    "doc = {\n",
    "    'author': 'kimchy',\n",
    "    'text': 'Elasticsearch: cool. bonsai cool.',\n",
    "    'timestamp': datetime.now(),\n",
    "}"
   ]
  },
  {
   "cell_type": "code",
   "execution_count": 14,
   "metadata": {},
   "outputs": [
    {
     "output_type": "stream",
     "name": "stdout",
     "text": [
      "created\n",
      "C:\\Users\\Atharva\\AppData\\Local\\Programs\\Python\\Python38-32\\lib\\site-packages\\elasticsearch\\connection\\base.py:208: ElasticsearchWarning: Elasticsearch built-in security features are not enabled. Without authentication, your cluster could be accessible to anyone. See https://www.elastic.co/guide/en/elasticsearch/reference/7.13/security-minimal-setup.html to enable security.\n",
      "  warnings.warn(message, category=ElasticsearchWarning)\n"
     ]
    }
   ],
   "source": [
    "res = es.index(index=\"test-index\", id=1, body=doc)\n",
    "print(res['result'])\n"
   ]
  },
  {
   "cell_type": "code",
   "execution_count": 15,
   "metadata": {},
   "outputs": [
    {
     "output_type": "stream",
     "name": "stdout",
     "text": [
      "{'author': 'kimchy', 'text': 'Elasticsearch: cool. bonsai cool.', 'timestamp': '2021-07-23T16:01:07.091771'}\n"
     ]
    }
   ],
   "source": [
    "\n",
    "res = es.get(index=\"test-index\", id=1)\n",
    "print(res['_source'])\n"
   ]
  },
  {
   "cell_type": "code",
   "execution_count": 16,
   "metadata": {},
   "outputs": [
    {
     "output_type": "execute_result",
     "data": {
      "text/plain": [
       "{'_shards': {'total': 2, 'successful': 1, 'failed': 0}}"
      ]
     },
     "metadata": {},
     "execution_count": 16
    }
   ],
   "source": [
    "\n",
    "es.indices.refresh(index=\"test-index\")\n"
   ]
  },
  {
   "cell_type": "code",
   "execution_count": 17,
   "metadata": {},
   "outputs": [
    {
     "output_type": "stream",
     "name": "stdout",
     "text": [
      "Got 1 Hits:\n2021-07-23T16:01:07.091771 kimchy: Elasticsearch: cool. bonsai cool.\n"
     ]
    }
   ],
   "source": [
    "\n",
    "res = es.search(index=\"test-index\", body={\"query\": {\"match_all\": {}}})\n",
    "print(\"Got %d Hits:\" % res['hits']['total']['value'])\n",
    "for hit in res['hits']['hits']:\n",
    "    print(\"%(timestamp)s %(author)s: %(text)s\" % hit[\"_source\"])"
   ]
  },
  {
   "cell_type": "code",
   "execution_count": null,
   "metadata": {},
   "outputs": [],
   "source": []
  }
 ]
}